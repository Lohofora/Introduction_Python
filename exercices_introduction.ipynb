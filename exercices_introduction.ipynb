{
 "cells": [
  {
   "cell_type": "markdown",
   "metadata": {},
   "source": [
    "Given a string, you have to return a string in which each character (case-sensitive) is repeated once.\n",
    "Examples (Input -> Output):\n",
    "\n",
    "* \"String\"      -> \"SSttrriinngg\"\n",
    "* \"Hello World\" -> \"HHeelllloo  WWoorrlldd\"\n",
    "* \"1234!_ \"     -> \"11223344!!__  \""
   ]
  },
  {
   "cell_type": "code",
   "execution_count": 11,
   "metadata": {},
   "outputs": [
    {
     "name": "stdout",
     "output_type": "stream",
     "text": [
      "bboonnjjoouurr\n"
     ]
    }
   ],
   "source": [
    "def double_char(mot):\n",
    "    mot_entier = []\n",
    "    for i in mot:\n",
    "        mot_entier.append(i*2)\n",
    "    return \"\".join(mot_entier)\n",
    "\n",
    "print(double_char(\"bonjour\"))\n",
    "\n",
    "#Best practice\n",
    "def double_char(s):\n",
    "    return \"\".join(c * 2 for c in s)\n",
    "\n",
    "print(double_char(\"bonjour\"))"
   ]
  },
  {
   "cell_type": "markdown",
   "metadata": {},
   "source": [
    "Create a function with two arguments that will return an array of the first n multiples of x.\n",
    "\n",
    "Assume both the given number and the number of times to count will be positive numbers greater than 0.\n",
    "\n",
    "Return the results as an array or list ( depending on language ).  \n",
    "Examples\n",
    "\n",
    "- count_by(1,10) #should return [1,2,3,4,5,6,7,8,9,10]\n",
    "- count_by(2,5) #should return [2,4,6,8,10]\n"
   ]
  },
  {
   "cell_type": "code",
   "execution_count": 29,
   "metadata": {},
   "outputs": [
    {
     "data": {
      "text/plain": [
       "[2, 4, 6, 8, 10]"
      ]
     },
     "execution_count": 29,
     "metadata": {},
     "output_type": "execute_result"
    }
   ],
   "source": [
    "def count_by(x, n) :\n",
    "    \"\"\"Return a sequence of numbers counting by 'x' 'n' times\"\"\"\n",
    "    liste_comptage = [x]\n",
    "    i = 1\n",
    "    while i < n :\n",
    "        i += 1\n",
    "        liste_comptage.append(x * i)\n",
    "    return liste_comptage\n",
    "\n",
    "count_by(2, 5)\n",
    "\n",
    "#Best practices\n",
    "def count_by(x, n):\n",
    "    return [x * i for i in range(1, n+1)]\n",
    "\n",
    "count_by(2,5)"
   ]
  },
  {
   "cell_type": "markdown",
   "metadata": {},
   "source": [
    "This time no story, no theory. The examples below show you how to write function accum:\n",
    "Examples:\n",
    "\n",
    "accum(\"abcd\") -> \"A-Bb-Ccc-Dddd\"\n",
    "accum(\"RqaEzty\") -> \"R-Qq-Aaa-Eeee-Zzzzz-Tttttt-Yyyyyyy\"\n",
    "accum(\"cwAt\") -> \"C-Ww-Aaa-Tttt\"\n",
    "\n",
    "The parameter of accum is a string which includes only letters from a..z and A..Z.\n"
   ]
  },
  {
   "cell_type": "code",
   "execution_count": 5,
   "metadata": {},
   "outputs": [
    {
     "name": "stdout",
     "output_type": "stream",
     "text": [
      "H-Ee-Lll-Llll-Ooooo\n"
     ]
    }
   ],
   "source": [
    "#sans la fonction\n",
    "\n",
    "# x = \"jzfklrjl\"\n",
    "# z = \"\"\n",
    "# z.lower()\n",
    "# for i in range(len(x)):\n",
    "#     z = z + (x[i]*(i+1)).capitalize() + \"-\"\n",
    "# print(z[0:-1])\n",
    "\n",
    "\n",
    "#la fonction\n",
    "def accum(x):\n",
    "    x = x.lower()\n",
    "    z = \"\"\n",
    "    for i in range(len(x)):\n",
    "        z = z + (x[i]*(i+1)).capitalize() + \"-\"\n",
    "    return z[0:-1]\n",
    "\n",
    "print(accum(\"hello\"))"
   ]
  }
 ],
 "metadata": {
  "kernelspec": {
   "display_name": "Python 3.10.6 64-bit",
   "language": "python",
   "name": "python3"
  },
  "language_info": {
   "codemirror_mode": {
    "name": "ipython",
    "version": 3
   },
   "file_extension": ".py",
   "mimetype": "text/x-python",
   "name": "python",
   "nbconvert_exporter": "python",
   "pygments_lexer": "ipython3",
   "version": "3.10.6"
  },
  "orig_nbformat": 4,
  "vscode": {
   "interpreter": {
    "hash": "916dbcbb3f70747c44a77c7bcd40155683ae19c65e1c03b4aa3499c5328201f1"
   }
  }
 },
 "nbformat": 4,
 "nbformat_minor": 2
}
