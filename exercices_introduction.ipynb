{
 "cells": [
  {
   "cell_type": "markdown",
   "metadata": {},
   "source": [
    "Given a string, you have to return a string in which each character (case-sensitive) is repeated once.\n",
    "Examples (Input -> Output):\n",
    "\n",
    "* \"String\"      -> \"SSttrriinngg\"\n",
    "* \"Hello World\" -> \"HHeelllloo  WWoorrlldd\"\n",
    "* \"1234!_ \"     -> \"11223344!!__  \""
   ]
  },
  {
   "cell_type": "code",
   "execution_count": 11,
   "metadata": {},
   "outputs": [
    {
     "name": "stdout",
     "output_type": "stream",
     "text": [
      "bboonnjjoouurr\n"
     ]
    }
   ],
   "source": [
    "def double_char(mot):\n",
    "    mot_entier = []\n",
    "    for i in mot:\n",
    "        mot_entier.append(i*2)\n",
    "    return \"\".join(mot_entier)\n",
    "\n",
    "print(double_char(\"bonjour\"))\n",
    "\n",
    "#Best practice\n",
    "def double_char(s):\n",
    "    return \"\".join(c * 2 for c in s)\n",
    "\n",
    "print(double_char(\"bonjour\"))"
   ]
  },
  {
   "cell_type": "markdown",
   "metadata": {},
   "source": [
    "Create a function with two arguments that will return an array of the first n multiples of x.\n",
    "\n",
    "Assume both the given number and the number of times to count will be positive numbers greater than 0.\n",
    "\n",
    "Return the results as an array or list ( depending on language ).  \n",
    "Examples\n",
    "\n",
    "- count_by(1,10) #should return [1,2,3,4,5,6,7,8,9,10]\n",
    "- count_by(2,5) #should return [2,4,6,8,10]\n"
   ]
  },
  {
   "cell_type": "code",
   "execution_count": 29,
   "metadata": {},
   "outputs": [
    {
     "data": {
      "text/plain": [
       "[2, 4, 6, 8, 10]"
      ]
     },
     "execution_count": 29,
     "metadata": {},
     "output_type": "execute_result"
    }
   ],
   "source": [
    "def count_by(x, n) :\n",
    "    \"\"\"Return a sequence of numbers counting by 'x' 'n' times\"\"\"\n",
    "    liste_comptage = [x]\n",
    "    i = 1\n",
    "    while i < n :\n",
    "        i += 1\n",
    "        liste_comptage.append(x * i)\n",
    "    return liste_comptage\n",
    "\n",
    "count_by(2, 5)\n",
    "\n",
    "#Best practices\n",
    "def count_by(x, n):\n",
    "    return [x * i for i in range(1, n+1)]\n",
    "\n",
    "count_by(2,5)"
   ]
  },
  {
   "cell_type": "markdown",
   "metadata": {},
   "source": [
    "This time no story, no theory. The examples below show you how to write function accum:\n",
    "Examples:\n",
    "\n",
    "accum(\"abcd\") -> \"A-Bb-Ccc-Dddd\"\n",
    "accum(\"RqaEzty\") -> \"R-Qq-Aaa-Eeee-Zzzzz-Tttttt-Yyyyyyy\"\n",
    "accum(\"cwAt\") -> \"C-Ww-Aaa-Tttt\"\n",
    "\n",
    "The parameter of accum is a string which includes only letters from a..z and A..Z.\n"
   ]
  },
  {
   "cell_type": "code",
   "execution_count": 2,
   "metadata": {},
   "outputs": [
    {
     "name": "stdout",
     "output_type": "stream",
     "text": [
      "H-Ee-Lll-Llll-Ooooo\n"
     ]
    }
   ],
   "source": [
    "#sans la fonction\n",
    "\n",
    "# x = \"jzfklrjl\"\n",
    "# z = \"\"\n",
    "# z.lower()\n",
    "# for i in range(len(x)):\n",
    "#     z = z + (x[i]*(i+1)).capitalize() + \"-\"\n",
    "# print(z[0:-1])\n",
    "\n",
    "\n",
    "#la fonction\n",
    "def accum(x):\n",
    "    x = x.lower()\n",
    "    z = \"\"\n",
    "    for i in range(len(x)):\n",
    "        z = z + (x[i]*(i+1)).capitalize() + \"-\"\n",
    "    return z[0:-1]\n",
    "\n",
    "print(accum(\"hello\"))\n",
    "\n",
    "#Autre solution intéressante\n",
    "# def accum(s):\n",
    "#     i = 0\n",
    "#     result = ''\n",
    "#     for letter in s:\n",
    "#         result += letter.upper() + letter.lower() * i + '-'\n",
    "#         i += 1\n",
    "#     return result[0:len(result)-1]"
   ]
  },
  {
   "cell_type": "markdown",
   "metadata": {},
   "source": [
    "Return the number (count) of vowels in the given string.\n",
    "\n",
    "We will consider a, e, i, o, u as vowels for this Kata (but not y).\n",
    "\n",
    "The input string will only consist of lower case letters and/or spaces."
   ]
  },
  {
   "cell_type": "code",
   "execution_count": 17,
   "metadata": {},
   "outputs": [
    {
     "ename": "IndentationError",
     "evalue": "unindent does not match any outer indentation level (<tokenize>, line 6)",
     "output_type": "error",
     "traceback": [
      "\u001b[1;36m  File \u001b[1;32m<tokenize>:6\u001b[1;36m\u001b[0m\n\u001b[1;33m    else :\u001b[0m\n\u001b[1;37m    ^\u001b[0m\n\u001b[1;31mIndentationError\u001b[0m\u001b[1;31m:\u001b[0m unindent does not match any outer indentation level\n"
     ]
    }
   ],
   "source": [
    "x = \"bonjour\"\n",
    "\n",
    "for i in x :\n",
    "   if i = \"a\" :\n",
    "        print(\"a\")\n",
    "    else :\n",
    "        print(\"\")\n"
   ]
  }
 ],
 "metadata": {
  "kernelspec": {
   "display_name": "Python 3.9.6 64-bit",
   "language": "python",
   "name": "python3"
  },
  "language_info": {
   "codemirror_mode": {
    "name": "ipython",
    "version": 3
   },
   "file_extension": ".py",
   "mimetype": "text/x-python",
   "name": "python",
   "nbconvert_exporter": "python",
   "pygments_lexer": "ipython3",
   "version": "3.9.6"
  },
  "orig_nbformat": 4,
  "vscode": {
   "interpreter": {
    "hash": "bf4f012fe86ae5b8737cf4a59342779e27fc30e8a0ef4580ad0427f42f50a356"
   }
  }
 },
 "nbformat": 4,
 "nbformat_minor": 2
}
