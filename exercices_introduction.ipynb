{
 "cells": [
  {
   "cell_type": "markdown",
   "metadata": {},
   "source": [
    "Given a string, you have to return a string in which each character (case-sensitive) is repeated once.\n",
    "Examples (Input -> Output):\n",
    "\n",
    "* \"String\"      -> \"SSttrriinngg\"\n",
    "* \"Hello World\" -> \"HHeelllloo  WWoorrlldd\"\n",
    "* \"1234!_ \"     -> \"11223344!!__  \""
   ]
  },
  {
   "cell_type": "code",
   "execution_count": 11,
   "metadata": {},
   "outputs": [
    {
     "name": "stdout",
     "output_type": "stream",
     "text": [
      "bboonnjjoouurr\n"
     ]
    }
   ],
   "source": [
    "def double_char(mot):\n",
    "    mot_entier = []\n",
    "    for i in mot:\n",
    "        mot_entier.append(i*2)\n",
    "    return \"\".join(mot_entier)\n",
    "\n",
    "print(double_char(\"bonjour\"))\n",
    "\n",
    "#Best practice\n",
    "def double_char(s):\n",
    "    return \"\".join(c * 2 for c in s)\n",
    "\n",
    "print(double_char(\"bonjour\"))"
   ]
  },
  {
   "cell_type": "markdown",
   "metadata": {},
   "source": [
    "Create a function with two arguments that will return an array of the first n multiples of x.\n",
    "\n",
    "Assume both the given number and the number of times to count will be positive numbers greater than 0.\n",
    "\n",
    "Return the results as an array or list ( depending on language ).  \n",
    "Examples\n",
    "\n",
    "- count_by(1,10) #should return [1,2,3,4,5,6,7,8,9,10]\n",
    "- count_by(2,5) #should return [2,4,6,8,10]\n"
   ]
  },
  {
   "cell_type": "code",
   "execution_count": 29,
   "metadata": {},
   "outputs": [
    {
     "data": {
      "text/plain": [
       "[2, 4, 6, 8, 10]"
      ]
     },
     "execution_count": 29,
     "metadata": {},
     "output_type": "execute_result"
    }
   ],
   "source": [
    "def count_by(x, n) :\n",
    "    \"\"\"Return a sequence of numbers counting by 'x' 'n' times\"\"\"\n",
    "    liste_comptage = [x]\n",
    "    i = 1\n",
    "    while i < n :\n",
    "        i += 1\n",
    "        liste_comptage.append(x * i)\n",
    "    return liste_comptage\n",
    "\n",
    "count_by(2, 5)\n",
    "\n",
    "#Best practices\n",
    "def count_by(x, n):\n",
    "    return [x * i for i in range(1, n+1)]\n",
    "\n",
    "count_by(2,5)"
   ]
  },
  {
   "cell_type": "markdown",
   "metadata": {},
   "source": [
    "This time no story, no theory. The examples below show you how to write function accum:\n",
    "Examples:\n",
    "\n",
    "accum(\"abcd\") -> \"A-Bb-Ccc-Dddd\"\n",
    "accum(\"RqaEzty\") -> \"R-Qq-Aaa-Eeee-Zzzzz-Tttttt-Yyyyyyy\"\n",
    "accum(\"cwAt\") -> \"C-Ww-Aaa-Tttt\"\n",
    "\n",
    "The parameter of accum is a string which includes only letters from a..z and A..Z.\n"
   ]
  },
  {
   "cell_type": "code",
   "execution_count": 2,
   "metadata": {},
   "outputs": [
    {
     "name": "stdout",
     "output_type": "stream",
     "text": [
      "H-Ee-Lll-Llll-Ooooo\n"
     ]
    }
   ],
   "source": [
    "#sans la fonction\n",
    "\n",
    "# x = \"jzfklrjl\"\n",
    "# z = \"\"\n",
    "# z.lower()\n",
    "# for i in range(len(x)):\n",
    "#     z = z + (x[i]*(i+1)).capitalize() + \"-\"\n",
    "# print(z[0:-1])\n",
    "\n",
    "\n",
    "#la fonction\n",
    "def accum(x):\n",
    "    x = x.lower()\n",
    "    z = \"\"\n",
    "    for i in range(len(x)):\n",
    "        z = z + (x[i]*(i+1)).capitalize() + \"-\"\n",
    "    return z[0:-1]\n",
    "\n",
    "print(accum(\"hello\"))\n",
    "\n",
    "#Autre solution intéressante\n",
    "# def accum(s):\n",
    "#     i = 0\n",
    "#     result = ''\n",
    "#     for letter in s:\n",
    "#         result += letter.upper() + letter.lower() * i + '-'\n",
    "#         i += 1\n",
    "#     return result[0:len(result)-1]"
   ]
  },
  {
   "cell_type": "markdown",
   "metadata": {},
   "source": [
    "Return the number (count) of vowels in the given string.\n",
    "\n",
    "We will consider a, e, i, o, u as vowels for this Kata (but not y).\n",
    "\n",
    "The input string will only consist of lower case letters and/or spaces."
   ]
  },
  {
   "cell_type": "code",
   "execution_count": 3,
   "metadata": {},
   "outputs": [
    {
     "data": {
      "text/plain": [
       "0"
      ]
     },
     "execution_count": 3,
     "metadata": {},
     "output_type": "execute_result"
    }
   ],
   "source": [
    "#C'est bon mais c'est long\n",
    "def decompte(x):\n",
    "    x = x.lower()\n",
    "    decompte = 0\n",
    "    for i in x :\n",
    "        if i == \"a\" :\n",
    "            decompte = decompte + 1\n",
    "        elif i == \"e\" :\n",
    "            decompte = decompte + 1\n",
    "        elif i == \"i\" :\n",
    "            decompte = decompte + 1\n",
    "        elif i == \"o\" :\n",
    "            decompte = decompte + 1\n",
    "        elif i == \"u\" :\n",
    "            decompte = decompte + 1\n",
    "        else :\n",
    "            decompte = decompte + 0\n",
    "    return decompte\n",
    "\n",
    "y = \"bonjour je m'appelle Alban\"\n",
    "decompte(y)\n",
    "\n",
    "#C'est mieux\n",
    "def decompte(x):\n",
    "    x = x.lower()\n",
    "    decompte = 0\n",
    "    for i in x :\n",
    "        if i == \"a\" or i == \"e\" or i == \"i\" or i == \"o\" or i == \"u\":\n",
    "            decompte = decompte + 1\n",
    "        else :\n",
    "            decompte = decompte + 0\n",
    "    return decompte\n",
    "\n",
    "y = \"bonjour je m'appelle Alban\"\n",
    "decompte(y)\n",
    "\n",
    "#Best practice avec sum()\n",
    "def getCount(s):\n",
    "    s = s.lower()\n",
    "    return sum(c in 'aeiou' for c in s)\n",
    "\n",
    "s='hEllo dear'\n",
    "getCount(s)"
   ]
  },
  {
   "cell_type": "markdown",
   "metadata": {},
   "source": [
    "In this kata, you are asked to square every digit of a number and concatenate them.\n",
    "\n",
    "For example, if we run 9119 through the function, 811181 will come out, because 92 is 81 and 12 is 1.\n",
    "\n",
    "Note: The function accepts an integer and returns an integer\n"
   ]
  },
  {
   "cell_type": "code",
   "execution_count": 75,
   "metadata": {},
   "outputs": [
    {
     "name": "stdout",
     "output_type": "stream",
     "text": [
      "[9, 1, 1, 9]\n",
      "811181\n",
      "811181\n"
     ]
    }
   ],
   "source": [
    "#Sans la fonction\n",
    "my_int = 9119\n",
    "my_list = []\n",
    "\n",
    "for x in str(my_int) :\n",
    "    my_list.append(int(x))\n",
    "\n",
    "print(my_list)\n",
    "\n",
    "count = []\n",
    "\n",
    "for x in my_list :\n",
    "    count.append(str(x*x))\n",
    "\n",
    "print(\"\".join((count)))\n",
    "\n",
    "#La fonction qui va bien\n",
    "\n",
    "def la_fonction(my_int):\n",
    "    my_list = []\n",
    "    for x in str(my_int) :\n",
    "        my_list.append(int(x))\n",
    "    count = []\n",
    "    for x in my_list :\n",
    "        count.append(str(x*x))\n",
    "    return int(\"\".join((count)))\n",
    "\n",
    "my_int = 9119\n",
    "print(la_fonction(my_int))\n"
   ]
  },
  {
   "cell_type": "markdown",
   "metadata": {},
   "source": [
    "You are going to be given a word. Your job is to return the middle character of the word. If the word's length is odd, return the middle character. If the word's length is even, return the middle 2 characters.\n",
    "\n",
    "#Examples:\n",
    "\n",
    "Kata.getMiddle(\"test\") should return \"es\"\n",
    "\n",
    "Kata.getMiddle(\"testing\") should return \"t\"\n",
    "\n",
    "Kata.getMiddle(\"middle\") should return \"dd\"\n",
    "\n",
    "Kata.getMiddle(\"A\") should return \"A\"\n",
    "#Input\n",
    "\n",
    "A word (string) of length 0 < str < 1000 (In javascript you may get slightly more than 1000 in some test cases due to an error in the test cases). You do not need to test for this. This is only here to tell you that you do not need to worry about your solution timing out.\n",
    "\n",
    "#Output\n",
    "\n",
    "The middle character(s) of the word represented as a string."
   ]
  },
  {
   "cell_type": "code",
   "execution_count": 26,
   "metadata": {},
   "outputs": [
    {
     "ename": "AttributeError",
     "evalue": "'str' object has no attribute 'pop'",
     "output_type": "error",
     "traceback": [
      "\u001b[1;31m---------------------------------------------------------------------------\u001b[0m",
      "\u001b[1;31mAttributeError\u001b[0m                            Traceback (most recent call last)",
      "Cell \u001b[1;32mIn [26], line 15\u001b[0m\n\u001b[0;32m      1\u001b[0m \u001b[38;5;66;03m# x = \"hello\"\u001b[39;00m\n\u001b[0;32m      2\u001b[0m \u001b[38;5;66;03m# x_nb = len(x)\u001b[39;00m\n\u001b[0;32m      3\u001b[0m \n\u001b[1;32m   (...)\u001b[0m\n\u001b[0;32m      9\u001b[0m \u001b[38;5;66;03m# y = (len(x)+1)/2\u001b[39;00m\n\u001b[0;32m     10\u001b[0m \u001b[38;5;66;03m# y\u001b[39;00m\n\u001b[0;32m     14\u001b[0m x \u001b[38;5;241m=\u001b[39m \u001b[38;5;124m\"\u001b[39m\u001b[38;5;124mbonjour\u001b[39m\u001b[38;5;124m\"\u001b[39m\n\u001b[1;32m---> 15\u001b[0m x_clean \u001b[38;5;241m=\u001b[39m x\u001b[38;5;241m.\u001b[39mpop(\u001b[38;5;241m0\u001b[39m, \u001b[38;5;241m-\u001b[39m\u001b[38;5;241m1\u001b[39m)\n",
      "\u001b[1;31mAttributeError\u001b[0m: 'str' object has no attribute 'pop'"
     ]
    }
   ],
   "source": [
    "# x = \"hello\"\n",
    "# x_nb = len(x)\n",
    "\n",
    "# if (x_nb % 2) == 0 :\n",
    "#     print(\"pair\")\n",
    "# else :\n",
    "#     print(\"impair\")\n",
    "\n",
    "# y = (len(x)+1)/2\n",
    "# y\n",
    "\n",
    "\n",
    "\n",
    "x = \"bonjour\"\n",
    "x_clean = x.pop(0, -1)"
   ]
  }
 ],
 "metadata": {
  "kernelspec": {
   "display_name": "Python 3.9.6 64-bit",
   "language": "python",
   "name": "python3"
  },
  "language_info": {
   "codemirror_mode": {
    "name": "ipython",
    "version": 3
   },
   "file_extension": ".py",
   "mimetype": "text/x-python",
   "name": "python",
   "nbconvert_exporter": "python",
   "pygments_lexer": "ipython3",
   "version": "3.9.6"
  },
  "orig_nbformat": 4,
  "vscode": {
   "interpreter": {
    "hash": "bf4f012fe86ae5b8737cf4a59342779e27fc30e8a0ef4580ad0427f42f50a356"
   }
  }
 },
 "nbformat": 4,
 "nbformat_minor": 2
}
