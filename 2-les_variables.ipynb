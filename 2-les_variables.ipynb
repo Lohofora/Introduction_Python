{
 "cells": [
  {
   "cell_type": "markdown",
   "metadata": {},
   "source": [
    "# Les variables et les types de variables"
   ]
  },
  {
   "cell_type": "markdown",
   "metadata": {},
   "source": [
    "## Les variables"
   ]
  },
  {
   "cell_type": "markdown",
   "metadata": {},
   "source": [
    "### Déclarer une variable"
   ]
  },
  {
   "cell_type": "code",
   "execution_count": 5,
   "metadata": {},
   "outputs": [
    {
     "name": "stdout",
     "output_type": "stream",
     "text": [
      "Marion\n",
      "MarionStuder\n"
     ]
    }
   ],
   "source": [
    "eleve = \"Marion\"\n",
    "print(eleve)\n",
    "print(eleve + \"Studer\") #Ajouter une valeur au résultat"
   ]
  },
  {
   "cell_type": "code",
   "execution_count": 6,
   "metadata": {},
   "outputs": [
    {
     "name": "stdout",
     "output_type": "stream",
     "text": [
      "Antoine\n",
      "Antoine\n",
      "Antoine\n",
      "Patrick\n"
     ]
    }
   ],
   "source": [
    "formateur = \"Charles\"\n",
    "\n",
    "nombre_apprenants = 12\n",
    "\n",
    "# double déclaration\n",
    "apprenant = eleve = \"Antoine\"\n",
    "print(eleve)\n",
    "print(apprenant)\n",
    "apprenant = \"Patrick\"\n",
    "print(eleve)\n",
    "print(apprenant)"
   ]
  },
  {
   "cell_type": "markdown",
   "metadata": {},
   "source": [
    "### Afficher une variable"
   ]
  },
  {
   "cell_type": "code",
   "execution_count": 10,
   "metadata": {},
   "outputs": [
    {
     "name": "stdout",
     "output_type": "stream",
     "text": [
      "Charles\n",
      "nombre_apprenants: 12\n",
      "Charles 12 Antoine\n",
      "Charles a 12 apprenants dans sa formation, dont:  Patrick\n",
      "Charles a 12 apprenants dans sa formation, dont:  Patrick\n",
      "formateur='Charles'\n"
     ]
    }
   ],
   "source": [
    "# affichage d'une variable\n",
    "print(formateur)\n",
    "\n",
    "# affichage de plusieurs éléments \n",
    "print(\"nombre_apprenants:\",  nombre_apprenants)\n",
    "print(formateur,nombre_apprenants,eleve)\n",
    "\n",
    "# commentaire avec l'attribut format\n",
    "print( \"{} a {} apprenants dans sa formation, dont:  {}\".format(formateur,nombre_apprenants,apprenant)) #format donne la valeur de chacune des {}\n",
    "\n",
    "# commentaires avec les f-strings (pareil que format sauf que \"f\" au début)\n",
    "print( f\"{formateur} a {nombre_apprenants} apprenants dans sa formation, dont:  {apprenant}\")\n",
    "\n",
    "print (f\"{formateur=}\") #permet afficher la variable en plus de la valeur de la variable \"print(variable)\" aurait affiché que la valeur de la variable\n"
   ]
  },
  {
   "cell_type": "markdown",
   "metadata": {},
   "source": [
    "Fonction format fonctionne aussi avec les listes et dictionnaires"
   ]
  },
  {
   "cell_type": "code",
   "execution_count": 11,
   "metadata": {},
   "outputs": [
    {
     "name": "stdout",
     "output_type": "stream",
     "text": [
      "Charles a Antoine apprenants dans sa formation, dont:  12\n"
     ]
    }
   ],
   "source": [
    "ma_liste = [formateur,eleve,nombre_apprenants]\n",
    "print( \"{} a {} apprenants dans sa formation, dont:  {}\".format(*ma_liste)) #pas oublier * pour indiquer qu'on donne à format une liste"
   ]
  },
  {
   "cell_type": "markdown",
   "metadata": {},
   "source": [
    "### Modifier une variable"
   ]
  },
  {
   "cell_type": "code",
   "execution_count": 15,
   "metadata": {},
   "outputs": [
    {
     "name": "stdout",
     "output_type": "stream",
     "text": [
      "nombre_apprenants:  20\n",
      "apprenant:  Antoine\n",
      "eleve:  Denis\n",
      "7\n"
     ]
    }
   ],
   "source": [
    "apprenant = eleve = \"Antoine\"\n",
    "eleve = \"Denis\"\n",
    "nombre_apprenants = nombre_apprenants + 2\n",
    "nombre_apprenants += 2\n",
    "\n",
    "print(\"nombre_apprenants: \", nombre_apprenants)\n",
    "print(\"apprenant: \", apprenant)\n",
    "print(\"eleve: \", eleve)\n",
    "\n",
    "eleve = 7\n",
    "print(eleve)"
   ]
  },
  {
   "cell_type": "markdown",
   "metadata": {},
   "source": [
    "### Supprimer une variable"
   ]
  },
  {
   "cell_type": "code",
   "execution_count": 16,
   "metadata": {},
   "outputs": [],
   "source": [
    "del apprenants"
   ]
  },
  {
   "cell_type": "markdown",
   "metadata": {},
   "source": [
    "### Nommer une variable avec la Pep-8"
   ]
  },
  {
   "cell_type": "markdown",
   "metadata": {},
   "source": [
    "- Mettez un espace avant et après le signe égal\n",
    "   - apprenant = \"Charles\" et non apprenant=\"Charles\"\n",
    "- Utilisez des noms descriptifs dans votre code.\n",
    "   - exemple: Au lieu de  quantite  (ou pire,qte), ajoutez des détails :quantite_en_stock,solde_actuel, etc.\n",
    "- Utilisez des mots complets.\n",
    "   - exemple,revenu_annuelest plus clair querev_annuel.\n",
    "- Suivez une convention d’appellation commune.\n",
    "   - **le snake case : pour tous les noms sauf les classes**\n",
    "      - exemple nombre_de_chats,  reponse_finale  ,  le_meilleur_developpeur_python_du_monde, etc.\n",
    "    - **le upper case : utilisé uniquement pour les classes**\n",
    "      - ReponseFinale, NomberDeChats\n",
    "   - commencez avec une lettre minuscule (surtout pas par un nombre)\n",
    "   - Utilisez uniquement des caractères alphanumériques et des tirets bas... et donc pas d'accents !\n",
    "- N’oubliez pas que les noms de variables sont sensibles à la casse.\n",
    "   - age,  Age  et  AGE  sont trois variables différentes. "
   ]
  },
  {
   "cell_type": "markdown",
   "metadata": {},
   "source": [
    "### S'exercer à manipuler les variables"
   ]
  },
  {
   "cell_type": "markdown",
   "metadata": {},
   "source": [
    "**`Exercice`**: créez l'état civil de votre voisin \n",
    "- déclarer les variables nom, prénom et deuxième prénom puis une variable nom complet à l'aide des trois précédentes en les concaténant à l'aide de l'opérateur + \n",
    "- déclarer les variables année actuelle et année de naissance puis créer la variable âge à l'aide des deux pécédentes en les soustrayant\n",
    "- remplacer la valeur de la variable nom par celle de nom complet puis supprimer la variable nom complet"
   ]
  },
  {
   "cell_type": "code",
   "execution_count": 21,
   "metadata": {},
   "outputs": [
    {
     "name": "stdout",
     "output_type": "stream",
     "text": [
      "Studer Marion Audrey\n",
      "29\n",
      "Studer Marion Audrey\n",
      "Marion  est une personne très agréable mais Audrey elle est encore mieux\n"
     ]
    }
   ],
   "source": [
    "nom = \"Studer \"\n",
    "prenom = \"Marion \"\n",
    "deuxieme_prenom = \"Audrey\"\n",
    "nom_complet = nom + prenom + deuxieme_prenom\n",
    "print(nom_complet)\n",
    "\n",
    "annee_actuelle = 2022\n",
    "annee_de_naissance = 1993\n",
    "age = annee_actuelle - annee_de_naissance\n",
    "print(age)\n",
    "\n",
    "nom = nom_complet\n",
    "del (nom)\n",
    "print(nom_complet)\n",
    "\n",
    "print(\"{} est une personne très agréable mais {} elle est encore mieux\".format(prenom,deuxieme_prenom))"
   ]
  },
  {
   "cell_type": "markdown",
   "metadata": {},
   "source": [
    "## Les types primitifs de variable"
   ]
  },
  {
   "cell_type": "code",
   "execution_count": 22,
   "metadata": {},
   "outputs": [
    {
     "name": "stdout",
     "output_type": "stream",
     "text": [
      "<class 'int'> 7\n"
     ]
    },
    {
     "data": {
      "text/plain": [
       "int"
      ]
     },
     "execution_count": 22,
     "metadata": {},
     "output_type": "execute_result"
    }
   ],
   "source": [
    "# Les \"integers\", ou nombres entiers en français\n",
    "nombre_apprentants = 7\n",
    "print(type(nombre_apprentants),nombre_apprentants)\n",
    "type(nombre_apprenants)"
   ]
  },
  {
   "cell_type": "code",
   "execution_count": 20,
   "metadata": {},
   "outputs": [
    {
     "name": "stdout",
     "output_type": "stream",
     "text": [
      "<class 'float'>25.0\n"
     ]
    }
   ],
   "source": [
    "# Les \"floats\", ou nombres à virgule en français (attention on utilise des . et non des virgules)\n",
    "age_moyen_promo = 25.0\n",
    "print(type(age_moyen_promo), age_moyen_promo)"
   ]
  },
  {
   "cell_type": "code",
   "execution_count": 28,
   "metadata": {},
   "outputs": [
    {
     "name": "stdout",
     "output_type": "stream",
     "text": [
      "La variable apprennant est de type <class 'str'> et prend comme valeur Charles\n"
     ]
    }
   ],
   "source": [
    "# Les \"strings\" (str), ou chaines de caractères en français\n",
    "apprenant = \"Charles\"\n",
    "print(type(apprenant), apprenant)"
   ]
  },
  {
   "cell_type": "code",
   "execution_count": 1,
   "metadata": {},
   "outputs": [
    {
     "name": "stdout",
     "output_type": "stream",
     "text": [
      "<class 'bool'> True\n"
     ]
    }
   ],
   "source": [
    "# Les \"Booléens\" (bool), ou booléen en français, c'est à dire vrai ou faux, pas oublier majuscule à True et False\n",
    "est_ce_que_1_plus_1_egale_2 = 1 + 1 == 2\n",
    "\n",
    "print(type(est_ce_que_1_plus_1_egale_2),est_ce_que_1_plus_1_egale_2)"
   ]
  },
  {
   "cell_type": "markdown",
   "metadata": {},
   "source": [
    "## Les integers et les floats en détail "
   ]
  },
  {
   "cell_type": "markdown",
   "metadata": {},
   "source": [
    "### Opérations sur les integers et les floats"
   ]
  },
  {
   "cell_type": "code",
   "execution_count": 24,
   "metadata": {},
   "outputs": [
    {
     "name": "stdout",
     "output_type": "stream",
     "text": [
      "somme=15.5\n",
      "difference=9.5\n",
      "produit=37.5\n",
      "quotient=4.166666666666667\n",
      "quotient_sans_reste=4.0\n",
      "reste=0.5\n",
      "puissance=1953.125\n"
     ]
    }
   ],
   "source": [
    "x = 12.5\n",
    "y = 3\n",
    "\n",
    "#la somme de x et y (x plus y).\n",
    "somme = x + y   \n",
    "print (f\"{somme=}\")\n",
    "\n",
    "#la différence entre x et y \n",
    "difference = x - y \n",
    "print (f\"{difference=}\")\n",
    "\n",
    "#le produit de x et y\n",
    "produit = x * y \n",
    "print (f\"{produit=}\")\n",
    "\n",
    "# le quotient de x et y (x divisé par y).\n",
    "quotient = x / y \n",
    "print (f\"{quotient=}\")\n",
    "\n",
    "# le quotient de x et y sans reste.\n",
    "quotient_sans_reste = x // y \n",
    "print (f\"{quotient_sans_reste=}\")\n",
    "\n",
    "# le reste de x divisé par y. % aussi appelé \"modulo\" pour avoir le reste de la division\n",
    "reste = x % y  \n",
    "print (f\"{reste=}\")\n",
    "\n",
    "# x à la puissance y\n",
    "puissance = x**y\n",
    "print (f\"{puissance=}\")"
   ]
  },
  {
   "cell_type": "markdown",
   "metadata": {},
   "source": [
    "**`Exercice 1`**: Quelle est la valeur prise par z? (de tête)"
   ]
  },
  {
   "cell_type": "code",
   "execution_count": 24,
   "metadata": {},
   "outputs": [],
   "source": [
    "x = 13\n",
    "y = 4"
   ]
  },
  {
   "cell_type": "code",
   "execution_count": null,
   "metadata": {},
   "outputs": [],
   "source": [
    "z = x == (( x // y ) * y) + (x % y) # \"==\" pour vérifier si expression gauche égale à celle de droite, il s'agit d'un booléen"
   ]
  },
  {
   "cell_type": "markdown",
   "metadata": {},
   "source": [
    "**`Exercice 2`**: Add parentheses to the following expression so that it evaluates to 1."
   ]
  },
  {
   "cell_type": "code",
   "execution_count": 26,
   "metadata": {},
   "outputs": [
    {
     "name": "stdout",
     "output_type": "stream",
     "text": [
      "1\n"
     ]
    }
   ],
   "source": [
    "print( (5 - 3 )// 2)"
   ]
  },
  {
   "cell_type": "markdown",
   "metadata": {},
   "source": [
    "**`Exercice 3`**: Add parentheses to the following expression so that it evaluates to 0."
   ]
  },
  {
   "cell_type": "code",
   "execution_count": 29,
   "metadata": {},
   "outputs": [
    {
     "name": "stdout",
     "output_type": "stream",
     "text": [
      "0\n"
     ]
    }
   ],
   "source": [
    "print(8 - (3 * 2) - (1 + 1))"
   ]
  },
  {
   "cell_type": "markdown",
   "metadata": {},
   "source": [
    "**`Exercice 4`**: \n",
    "Alice, Bob and Carol have agreed to pool their Halloween candy and split it evenly among themselves. For the sake of their friendship, any candies left over will be smashed. For example, if they collectively bring home 91 candies, they'll take 30 each and smash 1.\n",
    "\n",
    "Write an arithmetic expression below to calculate how many candies they must smash for a given haul."
   ]
  },
  {
   "cell_type": "code",
   "execution_count": 33,
   "metadata": {},
   "outputs": [
    {
     "name": "stdout",
     "output_type": "stream",
     "text": [
      "1\n"
     ]
    },
    {
     "data": {
      "text/plain": [
       "1"
      ]
     },
     "execution_count": 33,
     "metadata": {},
     "output_type": "execute_result"
    }
   ],
   "source": [
    "# Variables representing the number of candies collected by alice, bob, and carol\n",
    "from logging import captureWarnings\n",
    "\n",
    "\n",
    "alice_candies = 121\n",
    "bob_candies = 77\n",
    "carol_candies = 109\n",
    "\n",
    "# Your code goes here! Replace the right-hand side of this assignment with an expression\n",
    "# involving alice_candies, bob_candies, and carol_candies\n",
    "pot_commun = alice_candies + bob_candies + carol_candies\n",
    "repartition = pot_commun // 3\n",
    "smash = pot_commun % 3\n",
    "print(smash)\n",
    "\n",
    "#plus rapide\n",
    "nombre_de_bonbons_a_detruire = (alice_candies + bob_candies + carol_candies) % 3\n",
    "nombre_de_bonbons_a_detruire\n",
    "\n"
   ]
  },
  {
   "cell_type": "markdown",
   "metadata": {},
   "source": [
    "### fonctions utiles liées aux integers ou aux float "
   ]
  },
  {
   "cell_type": "code",
   "execution_count": 41,
   "metadata": {},
   "outputs": [
    {
     "data": {
      "text/plain": [
       "str"
      ]
     },
     "execution_count": 41,
     "metadata": {},
     "output_type": "execute_result"
    }
   ],
   "source": [
    "x = 22.9876\n",
    "\n",
    "# Valeur absolue de x\n",
    "abs(x)\n",
    "\n",
    "# obtenir l'arrondi d'un float\n",
    "round(x,(nb_digits))\n",
    "\n",
    "# Convert an object to integer\n",
    "s = \"8\"\n",
    "s * 8\n",
    "s_as_an_integer = int(s)\n",
    "s * 8\n",
    "\n",
    "# Convert an object to float\n",
    "s_as_a_float = float(s)\n",
    "type(s)"
   ]
  },
  {
   "cell_type": "markdown",
   "metadata": {},
   "source": [
    "Plus de méthodes dans la documentation: https://docs.python.org/3/library/stdtypes.html"
   ]
  },
  {
   "cell_type": "markdown",
   "metadata": {},
   "source": [
    "## Les strings en détail"
   ]
  },
  {
   "cell_type": "markdown",
   "metadata": {},
   "source": [
    "### Les astuces concernant les strings"
   ]
  },
  {
   "cell_type": "code",
   "execution_count": 47,
   "metadata": {},
   "outputs": [
    {
     "name": "stdout",
     "output_type": "stream",
     "text": [
      "J'aime \"le\" Python!\n",
      "a line \n",
      " to an another\n",
      "comme dit le poète \"slkdfnsklfdn\" a line \n",
      " to an another\n"
     ]
    }
   ],
   "source": [
    "# Pour utiliser le symbole \" dans une string il faut écrire \\\"\n",
    "a_string = \"J'aime \\\"le\\\" Python!\"\n",
    "print(a_string)\n",
    "a_string = \"comme dit le poète \\\"slkdfnsklfdn\\\"\"\n",
    "\n",
    "# Pour sauter une ligne \\n\n",
    "a_string_with_a_space =\t\"a line \\n to an another\"\n",
    "print(a_string_with_a_space)\n",
    "\n",
    "print(a_string, a_string_with_a_space)"
   ]
  },
  {
   "cell_type": "markdown",
   "metadata": {},
   "source": [
    "### Le parcours des chaines de caractères"
   ]
  },
  {
   "cell_type": "code",
   "execution_count": 54,
   "metadata": {},
   "outputs": [
    {
     "name": "stdout",
     "output_type": "stream",
     "text": [
      "r\n",
      "i\n",
      "g\n",
      "3\n"
     ]
    }
   ],
   "source": [
    "#ATTENTION : 1er élément a toujours indice = 0\n",
    "\n",
    "indice = 2\n",
    "the_string = \"string\"\n",
    "\n",
    "# Renvoie le n ème élément d'une liste \n",
    "print(the_string[indice]) \n",
    "#ou\n",
    "print(the_string[3])\n",
    "print(the_string[-1]) #le dernier élément = -1\n",
    "\n",
    "# si ERREUR : \"is not subscriptable \" = \"ne fonctionne pas sur entiers\": la fonction indice marche pas sur les entiers, il faut la transformer en string\n",
    "# a = 1234\n",
    "# print(a[2])\n",
    "# a = str(a)\n",
    "# print(a[2])"
   ]
  },
  {
   "cell_type": "markdown",
   "metadata": {},
   "source": [
    "### fonctions utiles"
   ]
  },
  {
   "cell_type": "code",
   "execution_count": null,
   "metadata": {},
   "outputs": [],
   "source": [
    "# Renvoie le nombre de caractère dans la string, peut le faire pour une liste (donnes les arguments de la liste)\n",
    "len(the_string)"
   ]
  },
  {
   "cell_type": "markdown",
   "metadata": {},
   "source": [
    "### Les méthodes de la classe str"
   ]
  },
  {
   "cell_type": "code",
   "execution_count": 65,
   "metadata": {},
   "outputs": [],
   "source": [
    "my_string = \"Quelle belle journée belle journée\"\n",
    "\n",
    "# Mettre tout en minuscule\n",
    "lower_string = my_string.lower()\n",
    "\n",
    "# Mettre tout en majuscule\n",
    "upper_string = my_string.upper()\n",
    "\n",
    "# Mettre une majuscule au début\n",
    "capitalized_string = my_string.capitalize()\n",
    "\n",
    "# Remplacez une expression\n",
    "replaced_string = my_string.replace(\"journée\", \"soirée\") #à chaque fois que je vois \"journée\" je le remplace par \"soirée\"\n",
    "\n",
    "# Cherchez un bout de la chaine\n",
    "emplacement_de_belle = my_string.find(\"belle\") #à quel indice se trouve \"belle\" (donen tj le 1er indice)\n",
    "#si je veux trouver un autre belle dans la phrase, je lui dit à l'indice auquel je veux qu'il commence la recherche\n",
    "emplacement_de_belle = my_string.find(\"belle\",8) #commence au 8ème indice \n",
    "\n",
    "# Compte le nombre de fois ou apparait un caractère\n",
    "count_string = my_string.count(\"l\")\n",
    "\n",
    "# Diviser une chaine de caractères pour créer une liste\n",
    "splited_string = my_string.split(\" \") #entre \"\" est le séparateur (ici espace), la chaine va se transformer en liste de mots, on sépare tous les objet ou ya espace entre eux\n",
    "\n",
    "# Remplace les {} par la valeur définie dans format\n",
    "my_string = \"Quelle {} et {} journée\".format(\"belle\", \"bonne\")\n",
    "my_string = \"Quelle {adjectif_1} et {adjectif_2} journée\".format(adjectif_2=\"belle\", adjectif_1=\"bonne\")\n",
    "\n"
   ]
  },
  {
   "cell_type": "code",
   "execution_count": 71,
   "metadata": {},
   "outputs": [
    {
     "name": "stdout",
     "output_type": "stream",
     "text": [
      "my_string : Quelle bonne et belle journée\n",
      "Quelle bonne et belle journée\n"
     ]
    }
   ],
   "source": [
    "print(\"my_string :\", my_string)\n",
    "print(f\"{my_string=}\")"
   ]
  },
  {
   "cell_type": "markdown",
   "metadata": {},
   "source": [
    "**`Exercice`**: travaillez sur la définition de python \n",
    "- remplacez python par lovely python partout dans la chaine de caractère suivante\n",
    "- Affichez la chaine suivante en une seule chaine de caractères en sautant une ligne entre chaque phrase et en faisant commencer chaque phrase par une majuscule.\n",
    "    \n",
    "indice: \n",
    "- On calcule le nombre d'élément d'une liste de la meme manière qu'on calcule la longueur d'une chaine de caratère\n",
    "- On accède au nème éléments d'une liste de la même manière qu'on accède nème caractère d'une chaine de caractères."
   ]
  },
  {
   "cell_type": "code",
   "execution_count": 75,
   "metadata": {},
   "outputs": [
    {
     "name": "stdout",
     "output_type": "stream",
     "text": [
      "['lovely python is an interpreted high-level general-purpose programming language', 'its design philosophy emphasizes code readability with its use of significant indentation', 'its language constructs as well as its object-oriented approach aim to help programmers write clear, logical code for small and large-scale projects.']\n",
      "Lovely python is an interpreted high-level general-purpose programming language. \n",
      "Its design philosophy emphasizes code readability with its use of significant indentation. \n",
      "Its language constructs as well as its object-oriented approach aim to help programmers write clear, logical code for small and large-scale projects.\n"
     ]
    }
   ],
   "source": [
    "python_definition = \"python is an interpreted high-level general-purpose programming language. its design philosophy emphasizes code readability with its use of significant indentation. its language constructs as well as its object-oriented approach aim to help programmers write clear, logical code for small and large-scale projects.\"\n",
    "\n",
    "python_definition = python_definition.replace(\"python\", \"lovely python\")\n",
    "python_list = python_definition.split(\". \")\n",
    "print(python_list)\n",
    "python_propre = python_list[0].capitalize() + \". \\n\" + python_list[1].capitalize() \\\n",
    "    + \". \\n\" + python_list[2].capitalize()\n",
    "print(python_propre)\n",
    "\n",
    "# \"\\\" pour aller à la ligne dans la suite du code"
   ]
  },
  {
   "cell_type": "markdown",
   "metadata": {},
   "source": [
    "## Les booléens en détail"
   ]
  },
  {
   "cell_type": "code",
   "execution_count": 77,
   "metadata": {},
   "outputs": [
    {
     "name": "stdout",
     "output_type": "stream",
     "text": [
      "False\n",
      "True\n",
      "True\n",
      "True\n",
      "False\n",
      "False\n",
      "True\n",
      "True\n",
      "False\n",
      "True\n",
      "True\n",
      "False\n",
      "True\n",
      "False\n",
      "True\n"
     ]
    }
   ],
   "source": [
    "x = 8\n",
    "y = 9\n",
    "z = [7 ,8 ]\n",
    "\n",
    "\"\"\"Les booléens sont souvent le résultat d'une comparaison \"\"\" #est ce que ... x=y ?True ou false, etc)\n",
    "\n",
    "print( x == y ) #equal\n",
    "\n",
    "print( x != y ) # not equal\n",
    "\n",
    "print( x < y ) #strictly less than\n",
    "\n",
    "print( x <= y ) #less than or equal\n",
    "\n",
    "print( x > y ) #strictly greater than\n",
    "\n",
    "print( x >= y ) #greater than or equal\n",
    "\n",
    "\"\"\" ou le résultat d'affirmation \"\"\"\n",
    "\n",
    "print (isinstance(x,str)) #est-ce que \"x\" est une chaine de caractère -> False\n",
    "\n",
    "print( x in z) # appartenir\n",
    "\n",
    "print( y not in z ) # ou ne pas appartenir\n",
    "\n",
    "\"\"\" enfin ils peuvent être combiné grâce à des opérateurs logiques \"\"\"\n",
    "t = True\n",
    "f = False\n",
    "\n",
    "print( t and f) # s'écrit aussi &\n",
    "print( t or f) # s'écrit aussi | \n",
    "print( not t)\n",
    "print( not f)"
   ]
  },
  {
   "cell_type": "code",
   "execution_count": 78,
   "metadata": {},
   "outputs": [],
   "source": [
    "if 0:\n",
    "    print(\"hello\")\n",
    "\n",
    "    #pour int : tous les chiffres sauf \"0\" sont true\n",
    "    #pour str : tous les caractères sauf \"\" sont true"
   ]
  }
 ],
 "metadata": {
  "kernelspec": {
   "display_name": "Python 3.10.6 64-bit",
   "language": "python",
   "name": "python3"
  },
  "language_info": {
   "codemirror_mode": {
    "name": "ipython",
    "version": 3
   },
   "file_extension": ".py",
   "mimetype": "text/x-python",
   "name": "python",
   "nbconvert_exporter": "python",
   "pygments_lexer": "ipython3",
   "version": "3.10.6"
  },
  "orig_nbformat": 2,
  "vscode": {
   "interpreter": {
    "hash": "916dbcbb3f70747c44a77c7bcd40155683ae19c65e1c03b4aa3499c5328201f1"
   }
  }
 },
 "nbformat": 4,
 "nbformat_minor": 2
}
