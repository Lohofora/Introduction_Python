{
 "cells": [
  {
   "cell_type": "markdown",
   "metadata": {},
   "source": [
    "# Les conditions"
   ]
  },
  {
   "cell_type": "code",
   "execution_count": null,
   "metadata": {},
   "outputs": [],
   "source": [
    "\"\"\" Structure générale d'une condition if \"\"\"\n",
    "if mon_booleen:\n",
    "   # exécuter le code quand mon_booleen est vrai\n",
    "else:\n",
    "   # exécuter le code quand mon_booleen est faux"
   ]
  },
  {
   "cell_type": "markdown",
   "metadata": {},
   "source": [
    "Rappel: Les booléens peuvent être combinés avec des opérateurs logiques (and, or ..) ou issus de comparaisons (<, >, == ...)"
   ]
  },
  {
   "cell_type": "code",
   "execution_count": 1,
   "metadata": {},
   "outputs": [
    {
     "name": "stdout",
     "output_type": "stream",
     "text": [
      "on reste à la maison !\n"
     ]
    }
   ],
   "source": [
    "\"\"\" Exemple \"\"\"\n",
    "\n",
    "ensoleille = False\n",
    "\n",
    "if ensoleille:\n",
    "   print(\"on va à la plage !\")\n",
    "else:\n",
    "   print(\"on reste à la maison !\")"
   ]
  },
  {
   "cell_type": "code",
   "execution_count": 8,
   "metadata": {},
   "outputs": [
    {
     "name": "stdout",
     "output_type": "stream",
     "text": [
      "on fait un bonhomme de neige\n",
      "8\n",
      "nothing\n",
      "nothing\n"
     ]
    }
   ],
   "source": [
    "\"\"\" Il est également possible d'ajouter d'autres conditions\"\"\"\n",
    "\n",
    "ensoleille = False\n",
    "neige = True\n",
    "\n",
    "if ensoleille:\n",
    "   print(\"on va à la plage !\")\n",
    "elif neige:\n",
    "   print(\"on fait un bonhomme de neige\")\n",
    "else:\n",
    "   print(\"on reste à la maison !\")\n",
    "#avec elif, il s'arrête dès qu'il trouve une condition bonne, il examine une après l'autre\n",
    "\n",
    "a = 8\n",
    "\n",
    "if a > 2:\n",
    "   print(a)\n",
    "if a < 7:\n",
    "   print(a)\n",
    "else:\n",
    "   print(\"nothing\")\n",
    "\n",
    "#avec suite de if, chaque condition va être examinée, même s'il en a déjà trouvé une bonne\n",
    "\n",
    "#si on veut deux conditions\n",
    "if (a > 2) and (a < 7):\n",
    "   print(\"a\")\n",
    "else:\n",
    "   print(\"nothing\")"
   ]
  },
  {
   "cell_type": "markdown",
   "metadata": {},
   "source": [
    "**`Exercice 1`**: quelle est la valeur de x?"
   ]
  },
  {
   "cell_type": "code",
   "execution_count": 9,
   "metadata": {},
   "outputs": [
    {
     "name": "stdout",
     "output_type": "stream",
     "text": [
      "8\n"
     ]
    }
   ],
   "source": [
    "a = True\n",
    "b = False\n",
    "c = True\n",
    "\n",
    "if a and b:\n",
    "    x = 5\n",
    "elif not c:\n",
    "    x = 4\n",
    "elif a:\n",
    "    x = 8\n",
    "else:\n",
    "    x = 7\n",
    "\n",
    "print(x)"
   ]
  },
  {
   "cell_type": "markdown",
   "metadata": {},
   "source": [
    "**`Exercice 2`**: devinez ce qui va être affiché"
   ]
  },
  {
   "cell_type": "code",
   "execution_count": 10,
   "metadata": {},
   "outputs": [
    {
     "name": "stdout",
     "output_type": "stream",
     "text": [
      "c'est faux\n"
     ]
    }
   ],
   "source": [
    "a = 3\n",
    "b = 7\n",
    "c = 5\n",
    "\n",
    "if (a < b or b != c) and c >= b:\n",
    "    print(\"c'est vrai\")\n",
    "else:\n",
    "    print(\"c'est faux\")"
   ]
  },
  {
   "cell_type": "markdown",
   "metadata": {},
   "source": [
    "# Les boucles"
   ]
  },
  {
   "cell_type": "markdown",
   "metadata": {},
   "source": [
    "## La boucle for"
   ]
  },
  {
   "cell_type": "code",
   "execution_count": 11,
   "metadata": {},
   "outputs": [
    {
     "name": "stdout",
     "output_type": "stream",
     "text": [
      "PASCAL  présent\n",
      "AZEL  présent\n",
      "TONY  présent\n",
      "VLADIMIR  présent\n",
      "SABRINA  présent\n"
     ]
    }
   ],
   "source": [
    "#Le principal interet de la boucle for est de parcourir des listes\n",
    "liste_apprenants = [\"Pascal\", \"Azel\", \"Tony\", \"Vladimir\", \"Sabrina\"]\n",
    "\n",
    "for element in liste_apprenants: #element va prendre toutes les valeurs de la liste\n",
    "    element = element.upper()\n",
    "    print(element, \" présent\")"
   ]
  },
  {
   "cell_type": "markdown",
   "metadata": {},
   "source": [
    "On peut également s'en servir avec la fonction range, cela permet de parcourir une liste d'entiers"
   ]
  },
  {
   "cell_type": "code",
   "execution_count": 13,
   "metadata": {},
   "outputs": [
    {
     "name": "stdout",
     "output_type": "stream",
     "text": [
      "[0, 1, 2, 3, 4]\n"
     ]
    }
   ],
   "source": [
    "#range liste tous les entiers, range(5) prend tous les entiers de 0 à 4\n",
    "print(list(range(5)))"
   ]
  },
  {
   "cell_type": "code",
   "execution_count": 14,
   "metadata": {},
   "outputs": [
    {
     "name": "stdout",
     "output_type": "stream",
     "text": [
      "0\n",
      "1\n",
      "2\n",
      "3\n",
      "4\n",
      "5\n",
      "6\n",
      "7\n",
      "8\n",
      "9\n"
     ]
    }
   ],
   "source": [
    "for i in range(10):\n",
    "    print(i)"
   ]
  },
  {
   "cell_type": "code",
   "execution_count": 16,
   "metadata": {},
   "outputs": [
    {
     "name": "stdout",
     "output_type": "stream",
     "text": [
      "j = 2\n",
      "j = 4\n",
      "j = 6\n",
      "j = 8\n",
      "j = 10\n",
      "k = 11\n",
      "k = 8\n"
     ]
    }
   ],
   "source": [
    "# la fonction range peut prendre plusieurs arguments:\n",
    "premier_element = 2\n",
    "dernier_element_plus_1 = 11\n",
    "pas = 2 # on compte tous les combien, on fait de 2 en 2\n",
    "\n",
    "for j in range(premier_element,dernier_element_plus_1,pas):\n",
    "    print(f\"j = {j}\")\n",
    "\n",
    "# premier_element = 11\n",
    "# dernier_element_plus_1 = 7\n",
    "# pas = -3 # on compte tous les combien, on fait de -3 en -3\n",
    "\n",
    "# for k in range(premier_element,dernier_element_plus_1,pas):\n",
    "#     print(f\"k = {k}\")   "
   ]
  },
  {
   "cell_type": "markdown",
   "metadata": {},
   "source": [
    "**`Exercice 2`**: écrivez un code qui utilise range et la liste \"ma liste\" et qui à la sortie suivante:  \n",
    "canari 1  \n",
    "avion 2  \n",
    "papier 3  \n",
    "ciseaux 4  \n",
    "toiture 5  "
   ]
  },
  {
   "cell_type": "code",
   "execution_count": 28,
   "metadata": {},
   "outputs": [
    {
     "name": "stdout",
     "output_type": "stream",
     "text": [
      "canari 1\n",
      "avion 2\n",
      "papier 3\n",
      "ciseaux 4\n",
      "toiture 5\n"
     ]
    }
   ],
   "source": [
    "ma_liste = [\"canari\", \"avion\", \"papier\", \"ciseaux\", \"toiture\"]\n",
    "\n",
    "# Proposition 1\n",
    "# x = 0\n",
    "\n",
    "# for objet in ma_liste:\n",
    "#     x = x + 1\n",
    "#     print(objet, x)\n",
    "\n",
    "    # C'est bon, mais correction :\n",
    "for i in range(5):\n",
    "    print(ma_liste[i], i+1)"
   ]
  },
  {
   "cell_type": "markdown",
   "metadata": {},
   "source": [
    "## Boucle While"
   ]
  },
  {
   "cell_type": "code",
   "execution_count": 29,
   "metadata": {},
   "outputs": [
    {
     "name": "stdout",
     "output_type": "stream",
     "text": [
      "la condition est encore vraie car i vaut 0\n",
      "la condition est encore vraie car i vaut 1\n",
      "la condition est encore vraie car i vaut 2\n",
      "la condition est encore vraie car i vaut 3\n",
      "la condition est encore vraie car i vaut 4\n",
      "la condition est encore vraie car i vaut 5\n",
      "la condition est encore vraie car i vaut 6\n",
      "la condition est encore vraie car i vaut 7\n",
      "la condition est encore vraie car i vaut 8\n",
      "la condition est encore vraie car i vaut 9\n"
     ]
    }
   ],
   "source": [
    "# La structure générale de la boucle while est la suivante:\n",
    "\n",
    "i = 0\n",
    "\n",
    "while 10>i:\n",
    "    print(f\"la condition est encore vraie car i vaut {i}\")\n",
    "    i += 1 # on appelle cela l'incrementation\n"
   ]
  },
  {
   "cell_type": "code",
   "execution_count": null,
   "metadata": {},
   "outputs": [],
   "source": [
    "# l'incrémentation permet de ne pas créer de boucle infinie\n",
    "i=11\n",
    "condition = 12 > i\n",
    "while condition:\n",
    "    print(\"ceci est une boucle infinie\")\n",
    "    "
   ]
  },
  {
   "cell_type": "markdown",
   "metadata": {},
   "source": [
    "**`Exercice 1`**: \n",
    "- Utilisez une boucle for et la fonction \"range\" pour calculer la somme des 100 premier entier naturel\n",
    "- Utilisez la boucle while pour calculer le produit des 100 premiers entier naturel"
   ]
  },
  {
   "cell_type": "code",
   "execution_count": 43,
   "metadata": {},
   "outputs": [
    {
     "name": "stdout",
     "output_type": "stream",
     "text": [
      "5050\n"
     ]
    }
   ],
   "source": [
    "somme = 0\n",
    "\n",
    "for i in range(101):\n",
    "    somme = somme + i\n",
    "\n",
    "print(somme)\n"
   ]
  },
  {
   "cell_type": "code",
   "execution_count": 42,
   "metadata": {},
   "outputs": [
    {
     "name": "stdout",
     "output_type": "stream",
     "text": [
      "93326215443944152681699238856266700490715968264381621468592963895217599993229915608941463976156518286253697920827223758251185210916864000000000000000000000000\n"
     ]
    }
   ],
   "source": [
    "product = 1\n",
    "i = 1\n",
    "while  i <= 100 :\n",
    "    product *= i\n",
    "    i += 1\n",
    "\n",
    "print(product)"
   ]
  }
 ],
 "metadata": {
  "kernelspec": {
   "display_name": "Python 3.10.6 64-bit",
   "language": "python",
   "name": "python3"
  },
  "language_info": {
   "codemirror_mode": {
    "name": "ipython",
    "version": 3
   },
   "file_extension": ".py",
   "mimetype": "text/x-python",
   "name": "python",
   "nbconvert_exporter": "python",
   "pygments_lexer": "ipython3",
   "version": "3.10.6"
  },
  "orig_nbformat": 4,
  "vscode": {
   "interpreter": {
    "hash": "916dbcbb3f70747c44a77c7bcd40155683ae19c65e1c03b4aa3499c5328201f1"
   }
  }
 },
 "nbformat": 4,
 "nbformat_minor": 2
}
