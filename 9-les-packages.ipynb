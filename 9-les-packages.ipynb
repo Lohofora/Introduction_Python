{
 "cells": [
  {
   "cell_type": "markdown",
   "metadata": {},
   "source": [
    "# Importation: packages et fichiers"
   ]
  },
  {
   "cell_type": "markdown",
   "metadata": {},
   "source": [
    "## Présentation des packages"
   ]
  },
  {
   "cell_type": "markdown",
   "metadata": {},
   "source": [
    "Un package est un fichier ou un ensemble de fichiers qui contient des fonctions et des classes qui peuvent être réutilisés dans d'autres programmes"
   ]
  },
  {
   "cell_type": "markdown",
   "metadata": {},
   "source": [
    "## Importer un package dans son environnement de dev depuis votre librairie de package"
   ]
  },
  {
   "cell_type": "markdown",
   "metadata": {},
   "source": [
    "Pour utiliser un package il faut l'importer depuis votre librairie de package.  \n",
    "Celle-ci est constituée par python et par anaconda  "
   ]
  },
  {
   "cell_type": "code",
   "execution_count": 1,
   "metadata": {},
   "outputs": [
    {
     "name": "stdout",
     "output_type": "stream",
     "text": [
      "5\n"
     ]
    }
   ],
   "source": [
    "# exemple d'utilisation\n",
    "import math \n",
    "\n",
    "x = 5.8999\n",
    "print( math.floor(x)) # nompackage.fonctiondupackage(), math =nom du package"
   ]
  },
  {
   "cell_type": "code",
   "execution_count": 2,
   "metadata": {},
   "outputs": [
    {
     "ename": "NameError",
     "evalue": "name 'floor' is not defined",
     "output_type": "error",
     "traceback": [
      "\u001b[0;31m---------------------------------------------------------------------------\u001b[0m",
      "\u001b[0;31mNameError\u001b[0m                                 Traceback (most recent call last)",
      "\u001b[0;32m/var/folders/py/4rt338cj1ks4z3332m7l3f880000gp/T/ipykernel_49884/278667703.py\u001b[0m in \u001b[0;36m<module>\u001b[0;34m\u001b[0m\n\u001b[1;32m      1\u001b[0m \u001b[0;31m# en utilisant import math on est obligé de préciser le nom du package:\u001b[0m\u001b[0;34m\u001b[0m\u001b[0;34m\u001b[0m\u001b[0;34m\u001b[0m\u001b[0m\n\u001b[0;32m----> 2\u001b[0;31m \u001b[0mfloor\u001b[0m\u001b[0;34m(\u001b[0m\u001b[0;36m5.8999\u001b[0m\u001b[0;34m)\u001b[0m\u001b[0;34m\u001b[0m\u001b[0;34m\u001b[0m\u001b[0m\n\u001b[0m",
      "\u001b[0;31mNameError\u001b[0m: name 'floor' is not defined"
     ]
    }
   ],
   "source": [
    "# en utilisant import math on est obligé de préciser le nom du package:\n",
    "floor(5.8999)"
   ]
  },
  {
   "cell_type": "code",
   "execution_count": 4,
   "metadata": {},
   "outputs": [
    {
     "name": "stdout",
     "output_type": "stream",
     "text": [
      "1\n"
     ]
    }
   ],
   "source": [
    "\"\"\" il existe trois manières d'importer un package: deux légales et une illégale\"\"\"\n",
    "# LEGAL: importer tout un package en s'obligeant en indiquant le nom du package avant:\n",
    "import math as mt #mt est juste surnom du package pr aller plus vite\n",
    "x = mt.floor(5.899999)\n",
    "\n",
    "\n",
    "# LEGAL: importer une partie d'un package sans devoir indiquer le nom du package avant de s'en servir:\n",
    "from random import randint #on importe que la fonction randint du package random\n",
    "y = randint(0,10)\n",
    "print(y)\n",
    "\n",
    "# ILLEGAL et A EVITER : importer tout un package sans devoir indiquer le nom du package avant de s'en servir:\n",
    "# from random import *\n",
    "# z = uniform(0,1)\n",
    "# print(z)"
   ]
  },
  {
   "cell_type": "markdown",
   "metadata": {},
   "source": [
    "## Installer un package dans sa librairie de package puis l'importer"
   ]
  },
  {
   "cell_type": "markdown",
   "metadata": {},
   "source": [
    "Vous pouvez trouver des packages qui ne sont ni dans python ni anaconda"
   ]
  },
  {
   "cell_type": "code",
   "execution_count": 3,
   "metadata": {},
   "outputs": [
    {
     "ename": "ModuleNotFoundError",
     "evalue": "No module named 'pandas'",
     "output_type": "error",
     "traceback": [
      "\u001b[0;31m---------------------------------------------------------------------------\u001b[0m",
      "\u001b[0;31mModuleNotFoundError\u001b[0m                       Traceback (most recent call last)",
      "\u001b[0;32m/var/folders/py/4rt338cj1ks4z3332m7l3f880000gp/T/ipykernel_49884/3648170110.py\u001b[0m in \u001b[0;36m<module>\u001b[0;34m\u001b[0m\n\u001b[0;32m----> 1\u001b[0;31m \u001b[0;32mimport\u001b[0m \u001b[0mpandas\u001b[0m\u001b[0;34m\u001b[0m\u001b[0;34m\u001b[0m\u001b[0m\n\u001b[0m",
      "\u001b[0;31mModuleNotFoundError\u001b[0m: No module named 'pandas'"
     ]
    }
   ],
   "source": [
    "import pandas"
   ]
  },
  {
   "cell_type": "markdown",
   "metadata": {},
   "source": [
    "Vous devez auparavant installer ce package dans votre librairie de package à l'aide de la commande:\n",
    "- **`pip3 install pandas`**\n",
    "\n",
    "Cette commande doit être tapée dans votre terminal"
   ]
  },
  {
   "cell_type": "code",
   "execution_count": 2,
   "metadata": {},
   "outputs": [],
   "source": [
    "# vous pouvez ensuite l'importer dans votre environnement de dev\n",
    "import pandas"
   ]
  },
  {
   "cell_type": "markdown",
   "metadata": {},
   "source": [
    "Autres commandes utiles:\n",
    "- pip3 show <package(s)>\n",
    "- pip3 list\n",
    "- pip3 freeze -> donne tous les packages dans notre ordinateur et leur version"
   ]
  },
  {
   "cell_type": "markdown",
   "metadata": {},
   "source": [
    "## Se servir d'un package"
   ]
  },
  {
   "cell_type": "markdown",
   "metadata": {},
   "source": [
    "Pour connaitre comment se servir d'un package vous pouvez procéder en deux temps"
   ]
  },
  {
   "cell_type": "markdown",
   "metadata": {},
   "source": [
    "D'abord obtenir la liste des objets et fonctions dans ce package"
   ]
  },
  {
   "cell_type": "code",
   "execution_count": 5,
   "metadata": {},
   "outputs": [
    {
     "data": {
      "text/plain": [
       "['__doc__',\n",
       " '__loader__',\n",
       " '__name__',\n",
       " '__package__',\n",
       " '__spec__',\n",
       " 'acos',\n",
       " 'acosh',\n",
       " 'asin',\n",
       " 'asinh',\n",
       " 'atan',\n",
       " 'atan2',\n",
       " 'atanh',\n",
       " 'ceil',\n",
       " 'comb',\n",
       " 'copysign',\n",
       " 'cos',\n",
       " 'cosh',\n",
       " 'degrees',\n",
       " 'dist',\n",
       " 'e',\n",
       " 'erf',\n",
       " 'erfc',\n",
       " 'exp',\n",
       " 'expm1',\n",
       " 'fabs',\n",
       " 'factorial',\n",
       " 'floor',\n",
       " 'fmod',\n",
       " 'frexp',\n",
       " 'fsum',\n",
       " 'gamma',\n",
       " 'gcd',\n",
       " 'hypot',\n",
       " 'inf',\n",
       " 'isclose',\n",
       " 'isfinite',\n",
       " 'isinf',\n",
       " 'isnan',\n",
       " 'isqrt',\n",
       " 'lcm',\n",
       " 'ldexp',\n",
       " 'lgamma',\n",
       " 'log',\n",
       " 'log10',\n",
       " 'log1p',\n",
       " 'log2',\n",
       " 'modf',\n",
       " 'nan',\n",
       " 'nextafter',\n",
       " 'perm',\n",
       " 'pi',\n",
       " 'pow',\n",
       " 'prod',\n",
       " 'radians',\n",
       " 'remainder',\n",
       " 'sin',\n",
       " 'sinh',\n",
       " 'sqrt',\n",
       " 'tan',\n",
       " 'tanh',\n",
       " 'tau',\n",
       " 'trunc',\n",
       " 'ulp']"
      ]
     },
     "execution_count": 5,
     "metadata": {},
     "output_type": "execute_result"
    }
   ],
   "source": [
    "dir(mt)"
   ]
  },
  {
   "cell_type": "markdown",
   "metadata": {},
   "source": [
    "ensuite demander l'aide sur une fonction particulière"
   ]
  },
  {
   "cell_type": "code",
   "execution_count": 7,
   "metadata": {},
   "outputs": [
    {
     "name": "stdout",
     "output_type": "stream",
     "text": [
      "Help on built-in function pow in module math:\n",
      "\n",
      "pow(x, y, /)\n",
      "    Return x**y (x to the power of y).\n",
      "\n"
     ]
    }
   ],
   "source": [
    "help(mt.pow)"
   ]
  },
  {
   "cell_type": "markdown",
   "metadata": {},
   "source": [
    "# Les environnements virtuels"
   ]
  },
  {
   "cell_type": "markdown",
   "metadata": {},
   "source": [
    "Un environnement virtuel est un dossier qui regroupe une certaine version de python et ainsi que certains packages et leurs versions propres à un projet. Le projet sera exécuté au sein de cet environnement.\n",
    "Cela permet:\n",
    "- de garder un environnement léger: savoir quel package il faut installer quand on clone un nouveau projet et non tous les packages de l'ordinateur de la personne qui a créé le projet\n",
    "- connaître la version des packages et des dépendances où le projet fonctionne (des mises à jour peuvent rendre un projet inutilisable)"
   ]
  },
  {
   "cell_type": "markdown",
   "metadata": {},
   "source": [
    "Il existe de nombreux outils de gestion d'environnement virtuel:\n",
    "- venv: inclus dans python\n",
    "- virtualenv: le plus ancien, permet de gérer des versions de python 2\n",
    "- conda: qui vient avec anaconda\n",
    "- Pipenv: la solution en vue, qui regroupe pip et virtualenv"
   ]
  },
  {
   "cell_type": "markdown",
   "metadata": {},
   "source": [
    "Nous allons voir venv, ce n'est pas le plus recommandé pour des usages complexes mais il a l'avantage d'être inclu dans python."
   ]
  },
  {
   "cell_type": "markdown",
   "metadata": {},
   "source": [
    "Les commandes (étapes) qu'il faut connaitre (à taper dans le terminal):\n",
    "- on ouvre le terminal dans le dossier dans lequel on va ouvrir l'environnement (clique droit sur dossier voulu \"ouvrir le terminal intégré\")\n",
    "- **`python3 -m venv env`** : crée un environnement appelé env\n",
    "- **`source env/bin/activate`** (Unix) ou **`..\\env\\Scripts\\activate`** (WIndows): active l'environnement virtuel: à partir de maintenant quand on lance un fichier depuis le terminal ou qu'on install un package avec pip, ce sera dans cet environnement\n",
    "- **`deactivate`** : désactive l'environnement\n",
    "- **`rm -rf env`** : supprimer l'environnement virtuel\n",
    "- on installe les packages dont on a besoin **pip install pandas** etc\n",
    "- **pip freeze** donne tous les package installés\n",
    "- **`pip3 freeze > requirements.txt`** : crée un fichier requirements.txt avec tous les packages du projet et leur version\n",
    "- **`pip install -r requirements.txt`** : importe tous les packages du fichier requirement à leur bonne version"
   ]
  },
  {
   "cell_type": "markdown",
   "metadata": {},
   "source": [
    "Article médium sur l'équivalent en [Pipenv](https://medium.com/analytics-vidhya/why-pipenv-over-venv-for-python-projects-a51fb6e4f31e) et l'interet d'utiliser ce package"
   ]
  },
  {
   "cell_type": "markdown",
   "metadata": {},
   "source": [
    "## Importer des fichiers et des packages qu'on a soit même créé."
   ]
  },
  {
   "cell_type": "markdown",
   "metadata": {},
   "source": [
    "Il existe une bonne pratique chez les développeurs de créer leurs classes et leurs fonctions dans des fichiers séparés (normalement une classe ou une fonction par fichier). Pour pouvoir faire cela il faut pouvoir importer un fichier."
   ]
  },
  {
   "cell_type": "code",
   "execution_count": 7,
   "metadata": {},
   "outputs": [
    {
     "name": "stdout",
     "output_type": "stream",
     "text": [
      "this is a function from a same level file\n",
      "this is a function from a same level file\n"
     ]
    }
   ],
   "source": [
    "# il est assez facile d'importer une fonction du même niveau\n",
    "\n",
    "from Same_level import same_level_function\n",
    "same_level_function(\"Same\")"
   ]
  },
  {
   "cell_type": "code",
   "execution_count": 8,
   "metadata": {},
   "outputs": [
    {
     "name": "stdout",
     "output_type": "stream",
     "text": [
      "I'm a child file function\n",
      "I'm a child file function\n"
     ]
    }
   ],
   "source": [
    "# De même pour un fichier enfant\n",
    "\n",
    "from child_folder.child_file import child_file_function\n",
    "child_file_function()"
   ]
  },
  {
   "cell_type": "code",
   "execution_count": null,
   "metadata": {},
   "outputs": [],
   "source": [
    "import sys\n",
    "from pprint import pprint\n",
    "pprint(sys.path)"
   ]
  },
  {
   "cell_type": "markdown",
   "metadata": {},
   "source": [
    "Dans l'autre sens ça se complique, voir le fichier \"**child_file** \" -> child_folder/child_file.py"
   ]
  },
  {
   "cell_type": "markdown",
   "metadata": {},
   "source": [
    "**`Exercice`**: \n",
    "- Créer un dossier appelé \"exercice_package\"\n",
    "- Dans ce dossier créer fichier \"parent_file\" et définir une fonction multiply(a,b) qui permet de multiplier 2 entiers\n",
    "- Dans le dossier \" exercice_package\", créer un dossier appelé \"principal\" et dedans un fichier \"slevel\" ou vous définissez une fonction add(a,b)\n",
    "- Dans le dossier \"principal\", créer un dossier appelé \"child_folder\" et dedans un fichier appelé \"child\" ou vous définissez la fonction divide(a,b)\n",
    "- Enfin dans le dossier \"principal\", créer un fichier \"main\" ou vous calculerez l'arrondi tronqué avec 2 chiffres derrière la virgule de (5 + 2 * 3 ) / 3  en utilisant les trois fonctions définies précédemment. "
   ]
  }
 ],
 "metadata": {
  "kernelspec": {
   "display_name": "Python 3.10.6 64-bit",
   "language": "python",
   "name": "python3"
  },
  "language_info": {
   "codemirror_mode": {
    "name": "ipython",
    "version": 3
   },
   "file_extension": ".py",
   "mimetype": "text/x-python",
   "name": "python",
   "nbconvert_exporter": "python",
   "pygments_lexer": "ipython3",
   "version": "3.10.6"
  },
  "orig_nbformat": 4,
  "vscode": {
   "interpreter": {
    "hash": "916dbcbb3f70747c44a77c7bcd40155683ae19c65e1c03b4aa3499c5328201f1"
   }
  }
 },
 "nbformat": 4,
 "nbformat_minor": 2
}
